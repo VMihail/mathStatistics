{
 "cells": [
  {
   "cell_type": "markdown",
   "source": [
    "### problem 2.2"
   ],
   "metadata": {
    "collapsed": false
   }
  },
  {
   "cell_type": "markdown",
   "source": [
    "Оценим параметр $\\mu$ с параметром масштабирования $\\lambda = 1$ по выборке из распределение Лапласса.\n",
    "По предельной теореме об асимптотическом поведении среднего члена вариационного ряда,\n",
    "среднее значение выборки хорошо описывается нормальным распределением $\\textbf{N}\\left(\\mu, \\frac{\\sigma}{\\sqrt{n}}\\right)$,\n",
    "где $\\sigma$ - среднее стандартное отклонение распределения, в нашем случае $\\sigma = \\frac{\\sqrt{2}}{\\lambda} = \\sqrt{2}$.\n",
    "\n",
    "имеем $\\sqrt{n}\\frac{\\overline{X} - \\mu}{\\sigma} \\rightarrow N\\left(\\mu, \\sqrt{\\frac{2}{n}}\\right) \\Rightarrow\n",
    "P\\left(q_{1-\\frac{\\alpha}{2}} \\le \\sqrt{n}\\frac{\\overline{X} - \\mu}{\\sigma} \\le -q_{1-\\frac{\\alpha}{2}}\\right \\approx 1 - \\alpha \\Rightarrow P\\left(-\\frac{\\sigma q_{1-\\frac{\\alpha}{2}}}{\\sqrt{n}} + \\overline{X} \\le \\mu \\le \\frac{\\sigma q_{1-\\frac{\\alpha}{2}}}{\\sqrt{n}} + \\overline{X}\\right) \\approx 1 - \\alpha\n",
    "$"
   ],
   "metadata": {
    "collapsed": false
   }
  },
  {
   "cell_type": "code",
   "execution_count": 13,
   "outputs": [],
   "source": [
    "\"\"\"imports\"\"\"\n",
    "import numpy as np\n",
    "from scipy.stats import norm as nr, laplace as lp\n",
    "from itertools import repeat\n",
    "\n",
    "\"\"\"consts\"\"\"\n",
    "time = 1000\n",
    "alpha = 0.05\n",
    "mu = 2\n",
    "firstExpr = 25\n",
    "secondExpr = 10000\n",
    "distribution = lp(loc = mu)"
   ],
   "metadata": {
    "collapsed": false
   }
  },
  {
   "cell_type": "code",
   "execution_count": 14,
   "outputs": [],
   "source": [
    "def get(n, Time, dist):\n",
    "    getPopulations = lambda size, times: (x.rvs(size) for x in repeat(dist, times))\n",
    "    return getPopulations(n, Time)\n",
    "\n",
    "\n",
    "def expr(n, dist):\n",
    "    sig = np.sqrt(2)\n",
    "    count = 0\n",
    "    for X in get(n, time, dist):\n",
    "        val = -sig * nr.ppf(1 - alpha / 2) / np.sqrt(n) <= mu - X.mean() <= sig * nr.ppf(1 - alpha / 2) / np.sqrt(n)\n",
    "        count += int(val)\n",
    "    return n, count\n",
    "\n",
    "\n",
    "def printResult(n, count):\n",
    "    print(\"Размер выборки n =\", n, \". При этом доверительный интервал был покрыт в\", count, \"случаях, а это\", count / 10, \"% всех случаев\")"
   ],
   "metadata": {
    "collapsed": false
   }
  },
  {
   "cell_type": "code",
   "execution_count": 15,
   "outputs": [
    {
     "name": "stdout",
     "output_type": "stream",
     "text": [
      "Размер выборки n = 25 . При этом доверительный интервал был покрыт в 953 случаях, а это 95.3 % всех случаев\n",
      "Размер выборки n = 10000 . При этом доверительный интервал был покрыт в 952 случаях, а это 95.2 % всех случаев\n"
     ]
    }
   ],
   "source": [
    "def run():\n",
    "    resultN, resultCount = expr(firstExpr, distribution)\n",
    "    printResult(resultN, resultCount)\n",
    "    resultN, resultCount = expr(secondExpr, distribution)\n",
    "    printResult(resultN, resultCount)\n",
    "\n",
    "\n",
    "run()"
   ],
   "metadata": {
    "collapsed": false
   }
  },
  {
   "cell_type": "markdown",
   "source": [
    "Результаты эксперимента подтверждают найденный доверительный интервал. Вероятность того, что реальное значение находится в этом интервале, близка к $1 - \\alpha$."
   ],
   "metadata": {
    "collapsed": false
   }
  },
  {
   "cell_type": "markdown",
   "source": [
    "### Problem 1.2"
   ],
   "metadata": {
    "collapsed": false
   }
  },
  {
   "cell_type": "markdown",
   "source": [
    "Так как выборки являются нормальными, то выборочные средние $\\overline{X}$ и $\\overline{Y}$ также распределены нормально. Кроме того, выборки независимы, поэтому разность $\\overline{X} - \\overline{Y}$ также имеет нормальное распределение. Это возможно благодаря тому, что выборочные средние являются линейными комбинациями независимых нормальных величин (выборки i.i.d.), которые в свою очередь являются функциями от реализаций независимых выборок.\n",
    "\n",
    "Кроме того, математическое ожидание разности выборочных средних равно разности математических ожиданий исходных выборок, то есть $E(\\overline{X}) - E(\\overline{Y}) = E(X) - E(Y) = \\mu_1 - \\mu_2 = \\tau$. А дисперсия разности выборочных средних равна сумме дисперсий выборочных средних, то есть $Var(\\overline{X} - \\overline{Y}) = \\sigma^2 = Var(\\overline{X}) + Var\\left(\\overline{Y}\\right) = \\frac{\\sigma_1^2}{n} + \\frac{\\sigma_2^2}{m}$.\n",
    "\n",
    "В итоге, распределение $Z = \\overline{X} - \\overline{Y} \\sim N(\\tau, \\sigma^2)$.\n",
    "\n",
    "Центрируя и нормируя получаем стандартное нормальное распределение:\n",
    "$$\n",
    "\\frac{\\overline{X} - \\overline{Y} - \\tau}{\\sigma} \\sim N(0, 1)\n",
    "$$\n",
    "Из-за симметрии имеем:\n",
    "$$\n",
    "P\\left(-z_{1-\\frac{\\alpha}{2}} \\le \\frac{\\overline{X} - \\overline{Y} - \\tau}{\\sigma} \\le z_{1-\\frac{\\alpha}{2}}\\right) = 1 - \\alpha\n",
    "$$\n",
    "где $z_{\\alpha}$ - $\\alpha$-квантиль стандартного нормального распределения.\n",
    "\n",
    "Выражаем $\\tau$ в неравенстве и получаем доверительный интервал:\n",
    "$$P\\left(\\overline{X} - \\overline{Y} - \\sigma q_{1-\\frac{\\alpha}{2}} \\le \\tau \\le \\overline{X} - \\overline{Y} + \\sigma q_{1-\\frac{\\alpha}{2}}\\right) = 1 - \\alpha$$"
   ],
   "metadata": {
    "collapsed": false
   }
  },
  {
   "cell_type": "code",
   "execution_count": 23,
   "outputs": [],
   "source": [
    "\"\"\"consts\"\"\"\n",
    "firstEx = 2\n",
    "secondEx = 1\n",
    "firstSd = 1\n",
    "secondSd = np.sqrt(0.5)\n",
    "\n",
    "XDistribution = nr(loc = firstEx, scale = firstSd)\n",
    "YDistribution = nr(loc = secondEx, scale = secondSd)"
   ],
   "metadata": {
    "collapsed": false
   }
  },
  {
   "cell_type": "code",
   "execution_count": 24,
   "outputs": [
    {
     "name": "stdout",
     "output_type": "stream",
     "text": [
      "Размер выборки n = 25 . При этом доверительный интервал был покрыт в 959 случаях, а это 95.9 % всех случаев\n",
      "Размер выборки n = 10000 . При этом доверительный интервал был покрыт в 949 случаях, а это 94.9 % всех случаев\n"
     ]
    }
   ],
   "source": [
    "genPopulations = lambda size, times: ((x.rvs(size), y.rvs(size)) for x, y in repeat((XDistribution, YDistribution), times))\n",
    "sigma = lambda n: np.sqrt(1.5 / n)\n",
    "\n",
    "def expr(n):\n",
    "    count = 0\n",
    "    for X, Y in genPopulations(n, time):\n",
    "        val = X.mean() - Y.mean() - sigma(n) * nr.ppf(1 - alpha / 2) <= firstEx - secondEx <= X.mean() - Y.mean() + sigma(n) * nr.ppf(1 - alpha / 2)\n",
    "        count += int(val)\n",
    "    return n, count\n",
    "\n",
    "\n",
    "def run():\n",
    "    resultN, resultCount = expr(firstExpr)\n",
    "    printResult(resultN, resultCount)\n",
    "    resultN, resultCount = expr(secondExpr)\n",
    "    printResult(resultN, resultCount)\n",
    "\n",
    "\n",
    "run()"
   ],
   "metadata": {
    "collapsed": false
   }
  },
  {
   "cell_type": "markdown",
   "source": [
    "Из проведенного эксперимента можно сделать вывод, что вероятность покрытия интервала достаточно близка к заданному уровню доверия $1-\\alpha$. Кроме того, стоит отметить, что эта вероятность не зависит от размера выборки, что является важным свойством для статистических выводов."
   ],
   "metadata": {
    "collapsed": false
   }
  },
  {
   "cell_type": "code",
   "execution_count": null,
   "outputs": [],
   "source": [],
   "metadata": {
    "collapsed": false
   }
  }
 ],
 "metadata": {
  "kernelspec": {
   "display_name": "Python 3",
   "language": "python",
   "name": "python3"
  },
  "language_info": {
   "codemirror_mode": {
    "name": "ipython",
    "version": 2
   },
   "file_extension": ".py",
   "mimetype": "text/x-python",
   "name": "python",
   "nbconvert_exporter": "python",
   "pygments_lexer": "ipython2",
   "version": "2.7.6"
  }
 },
 "nbformat": 4,
 "nbformat_minor": 0
}
