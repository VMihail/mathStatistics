{
 "cells": [
  {
   "cell_type": "markdown",
   "source": [
    "Вариант 4"
   ],
   "metadata": {
    "collapsed": false
   }
  },
  {
   "cell_type": "code",
   "execution_count": 21,
   "outputs": [],
   "source": [
    "\"\"\"imports\"\"\"\n",
    "\n",
    "import numpy as np\n",
    "import pandas as pd\n",
    "import scipy.stats as sps\n",
    "from statsmodels.stats.diagnostic import lilliefors"
   ],
   "metadata": {
    "collapsed": false
   }
  },
  {
   "cell_type": "code",
   "execution_count": 22,
   "outputs": [
    {
     "data": {
      "text/plain": "                    song_name  song_popularity  song_duration_ms  \\\n0  Boulevard of Broken Dreams               73            262333   \n1                  In The End               66            216933   \n2           Seven Nation Army               76            231733   \n3                  By The Way               74            216933   \n4           How You Remind Me               56            223826   \n\n   acousticness  danceability  energy  instrumentalness  key  liveness  \\\n0      0.005520         0.496   0.682          0.000029    8    0.0589   \n1      0.010300         0.542   0.853          0.000000    3    0.1080   \n2      0.008170         0.737   0.463          0.447000    0    0.2550   \n3      0.026400         0.451   0.970          0.003550    0    0.1020   \n4      0.000954         0.447   0.766          0.000000   10    0.1130   \n\n   loudness  audio_mode  speechiness    tempo  time_signature  audio_valence  \n0    -4.095           1       0.0294  167.060               4          0.474  \n1    -6.407           0       0.0498  105.256               4          0.370  \n2    -7.828           1       0.0792  123.881               4          0.324  \n3    -4.938           1       0.1070  122.444               4          0.198  \n4    -5.065           1       0.0313  172.011               4          0.574  ",
      "text/html": "<div>\n<style scoped>\n    .dataframe tbody tr th:only-of-type {\n        vertical-align: middle;\n    }\n\n    .dataframe tbody tr th {\n        vertical-align: top;\n    }\n\n    .dataframe thead th {\n        text-align: right;\n    }\n</style>\n<table border=\"1\" class=\"dataframe\">\n  <thead>\n    <tr style=\"text-align: right;\">\n      <th></th>\n      <th>song_name</th>\n      <th>song_popularity</th>\n      <th>song_duration_ms</th>\n      <th>acousticness</th>\n      <th>danceability</th>\n      <th>energy</th>\n      <th>instrumentalness</th>\n      <th>key</th>\n      <th>liveness</th>\n      <th>loudness</th>\n      <th>audio_mode</th>\n      <th>speechiness</th>\n      <th>tempo</th>\n      <th>time_signature</th>\n      <th>audio_valence</th>\n    </tr>\n  </thead>\n  <tbody>\n    <tr>\n      <th>0</th>\n      <td>Boulevard of Broken Dreams</td>\n      <td>73</td>\n      <td>262333</td>\n      <td>0.005520</td>\n      <td>0.496</td>\n      <td>0.682</td>\n      <td>0.000029</td>\n      <td>8</td>\n      <td>0.0589</td>\n      <td>-4.095</td>\n      <td>1</td>\n      <td>0.0294</td>\n      <td>167.060</td>\n      <td>4</td>\n      <td>0.474</td>\n    </tr>\n    <tr>\n      <th>1</th>\n      <td>In The End</td>\n      <td>66</td>\n      <td>216933</td>\n      <td>0.010300</td>\n      <td>0.542</td>\n      <td>0.853</td>\n      <td>0.000000</td>\n      <td>3</td>\n      <td>0.1080</td>\n      <td>-6.407</td>\n      <td>0</td>\n      <td>0.0498</td>\n      <td>105.256</td>\n      <td>4</td>\n      <td>0.370</td>\n    </tr>\n    <tr>\n      <th>2</th>\n      <td>Seven Nation Army</td>\n      <td>76</td>\n      <td>231733</td>\n      <td>0.008170</td>\n      <td>0.737</td>\n      <td>0.463</td>\n      <td>0.447000</td>\n      <td>0</td>\n      <td>0.2550</td>\n      <td>-7.828</td>\n      <td>1</td>\n      <td>0.0792</td>\n      <td>123.881</td>\n      <td>4</td>\n      <td>0.324</td>\n    </tr>\n    <tr>\n      <th>3</th>\n      <td>By The Way</td>\n      <td>74</td>\n      <td>216933</td>\n      <td>0.026400</td>\n      <td>0.451</td>\n      <td>0.970</td>\n      <td>0.003550</td>\n      <td>0</td>\n      <td>0.1020</td>\n      <td>-4.938</td>\n      <td>1</td>\n      <td>0.1070</td>\n      <td>122.444</td>\n      <td>4</td>\n      <td>0.198</td>\n    </tr>\n    <tr>\n      <th>4</th>\n      <td>How You Remind Me</td>\n      <td>56</td>\n      <td>223826</td>\n      <td>0.000954</td>\n      <td>0.447</td>\n      <td>0.766</td>\n      <td>0.000000</td>\n      <td>10</td>\n      <td>0.1130</td>\n      <td>-5.065</td>\n      <td>1</td>\n      <td>0.0313</td>\n      <td>172.011</td>\n      <td>4</td>\n      <td>0.574</td>\n    </tr>\n  </tbody>\n</table>\n</div>"
     },
     "execution_count": 22,
     "metadata": {},
     "output_type": "execute_result"
    }
   ],
   "source": [
    "table = pd.read_csv(\"/Users/mihildrozdov/PycharmProjects/mathStatistics/song_data (1).csv\")\n",
    "table.head()"
   ],
   "metadata": {
    "collapsed": false
   }
  },
  {
   "cell_type": "code",
   "execution_count": 23,
   "outputs": [
    {
     "name": "stdout",
     "output_type": "stream",
     "text": [
      "<class 'pandas.core.frame.DataFrame'>\n",
      "RangeIndex: 18835 entries, 0 to 18834\n",
      "Data columns (total 15 columns):\n",
      " #   Column            Non-Null Count  Dtype  \n",
      "---  ------            --------------  -----  \n",
      " 0   song_name         18835 non-null  object \n",
      " 1   song_popularity   18835 non-null  int64  \n",
      " 2   song_duration_ms  18835 non-null  int64  \n",
      " 3   acousticness      18835 non-null  float64\n",
      " 4   danceability      18835 non-null  float64\n",
      " 5   energy            18835 non-null  float64\n",
      " 6   instrumentalness  18835 non-null  float64\n",
      " 7   key               18835 non-null  int64  \n",
      " 8   liveness          18835 non-null  float64\n",
      " 9   loudness          18835 non-null  float64\n",
      " 10  audio_mode        18835 non-null  int64  \n",
      " 11  speechiness       18835 non-null  float64\n",
      " 12  tempo             18835 non-null  float64\n",
      " 13  time_signature    18835 non-null  int64  \n",
      " 14  audio_valence     18835 non-null  float64\n",
      "dtypes: float64(9), int64(5), object(1)\n",
      "memory usage: 2.2+ MB\n"
     ]
    }
   ],
   "source": [
    "table.info()"
   ],
   "metadata": {
    "collapsed": false
   }
  },
  {
   "cell_type": "markdown",
   "source": [
    "Задание 1"
   ],
   "metadata": {
    "collapsed": false
   }
  },
  {
   "cell_type": "markdown",
   "source": [
    "Пусть $X$ - случайная величина, описывающая популярность песни. Тогда нулевая гипотеза формулируется следующим образом:<br>\n",
    "<br>\n",
    "$H_0: X$ имеет нормальное распределение.<br>\n",
    "<br>\n",
    "Альтернативная гипотеза выглядит так:<br>\n",
    "<br>\n",
    "$H_1: X$ имеет распределение, отличное от нормального.<br>\n",
    "<br>\n",
    "Для проверки этого утверждения будем использовать два критерия согласия - критерий Лиллиефорса и критерий Шапиро-Уилка. Уровень значимости для обоих критериев примем равным $\\alpha = 0.05$."
   ],
   "metadata": {
    "collapsed": false
   }
  },
  {
   "cell_type": "markdown",
   "source": [
    "Статистика критерия Лиллиефорса вычисляется по формуле $D_n = \\underset{x \\in \\mathbb{R}}{\\sup} |\\widehat{F_n}(x) - F_0(x)|$, где $\\widehat{F_n}(x)$ - эмпирическая функция распределения выборки в точке $x$, $F_0(x)$ - теоретическая функция распределения случайной величины, согласие с законом распределения которой тестируется. В нашем случае $F_0(x)$ - это функция нормального распределения, для которого математическое ожидание и дисперсия оцениваются как выборочное среднее и выборочная несмещенная дисперсия по имеющейся выборке популярности песни соответственно. Объем имеющейся выборки обозначим как $n$.\n",
    "\n",
    "Тест Лиллиефорса является расширением критерия согласия Колмогорова на случай неизвестных параметров тестируемого распределения. Применение этих критериев корректно в случае непрерывных функций распределения $F(x)$ и $F_0(x)$. В нашем случае мы предполагаем непрерывность величины $X$ в силу специфики данных, и непрерывность функции нормального распределения $F_0(x)$ очевидна.\n",
    "\n",
    "Нулевая гипотеза отвергается на уровне значимости $\\alpha$, если значение статистики $D_n$, посчитанное по имеющей выборке, превышает критическое значение распределения Лиллиефорса (при истинной нулевой гипотезе), соответствующее уровню значимости $\\alpha$. Данные критические значения для разных объемов выборки приведены в таблицах. В нашем случае для 5% уровня значимости критическое значение определяется по формуле $0.886/\\sqrt{n}$.\n",
    "\n",
    "Для проверки гипотезы о нормальности распределения воспользуемся критерием согласия Лиллиефорса и критерием согласия Шапиро-Уилка. Уровень значимости для обоих критериев выберем равным 0.05.\n",
    "\n",
    "Если p-value теста Лиллиефорса или Шапиро-Уилка меньше, либо равно 0.05, то отвергаем нулевую гипотезу о нормальности распределения (так как это эквивалентно тому, что значение статистики критерия по выборке превысило критическое значение)."
   ],
   "metadata": {
    "collapsed": false
   }
  },
  {
   "cell_type": "code",
   "execution_count": 24,
   "outputs": [
    {
     "data": {
      "text/plain": "0.0064558125177343805"
     },
     "execution_count": 24,
     "metadata": {},
     "output_type": "execute_result"
    }
   ],
   "source": [
    "0.886 / np.sqrt(18835)"
   ],
   "metadata": {
    "collapsed": false
   }
  },
  {
   "cell_type": "code",
   "execution_count": 25,
   "outputs": [
    {
     "name": "stdout",
     "output_type": "stream",
     "text": [
      "Значение тестовой статистики и p-value теста Лиллиефорса имеют значения 0.062 0.001\n"
     ]
    }
   ],
   "source": [
    "testValue = round(lilliefors(x = table[\"song_popularity\"], dist =\"norm\")[0], ndigits = 3)\n",
    "pValue = round(lilliefors(x = table[\"song_popularity\"], dist =\"norm\")[1], ndigits = 3)\n",
    "\n",
    "print(\"Значение тестовой статистики и p-value теста Лиллиефорса имеют значения\", testValue, pValue)"
   ],
   "metadata": {
    "collapsed": false
   }
  },
  {
   "cell_type": "code",
   "execution_count": 26,
   "outputs": [
    {
     "name": "stdout",
     "output_type": "stream",
     "text": [
      "True\n"
     ]
    }
   ],
   "source": [
    "mean = (table[\"song_popularity\"] - np.mean(table[\"song_popularity\"]))\n",
    "variable = np.sqrt(np.var(table[\"song_popularity\"], ddof = 1))\n",
    "print(sps.kstest(mean / variable, \"norm\")[0] == lilliefors(table[\"song_popularity\"], dist =\"norm\")[0])"
   ],
   "metadata": {
    "collapsed": false
   }
  },
  {
   "cell_type": "markdown",
   "source": [
    "Значение статистики для критерия Колмогорова совпадает с полученным выше значением, где данные были отскалированы на выборочное среднее и несмещенную дисперсию, посчитанные по выборке.\n",
    "\n",
    "Таким образом, значение статистики по выборке составляет 0.062, что превышает критическое значение 0.006 (аналогично, p-value 0.001 меньше, чем 0.05), что означает отвержение нулевой гипотезы на уровне значимости 0.05. Другими словами, с максимальной вероятностью ошибки первого рода в 0.05 можно утверждать, что популярность песни имеет распределение, отличное от нормального.\n",
    "\n",
    "Тестовая статистика критерия Шапиро-Уилка имеет вид $\\dfrac{(\\sum_{i=1}^{n} a_i x_{(i)})^2}{\\sum_{i=1}^{n} (x_i - \\overline{x})^2}$, где $x_{(i)}$ - i-я порядковая статистика по выборке (i-е по порядку значение популярности песни при упорядочении выборки по возрастанию), $\\overline{x} = \\dfrac{\\sum_{i=1}^{n} x_i}{n}$ - выборочное среднее, $a_i$ - коэффициенты, определяемые по специальным формулам и таблицам. <br>\n",
    "<br>\n",
    "\n",
    "Нулевая гипотеза отвергается на уровне значимости $\\alpha$, если значение статистики $W$, посчитанное по имеющейся выборке, превышает некоторое критическое значение (посчитанное при истинной нулевой гипотезе), соответствующее уровню значимости $\\alpha$.\n",
    "<br>\n",
    "Теперь посчитаем значение статистики и p-value теста:"
   ],
   "metadata": {
    "collapsed": false
   }
  },
  {
   "cell_type": "code",
   "execution_count": 8,
   "outputs": [
    {
     "name": "stdout",
     "output_type": "stream",
     "text": [
      "Значение тестовой статистики и p-value теста Шапиро-Уилка имеют значения 0.973 0.0\n"
     ]
    },
    {
     "name": "stderr",
     "output_type": "stream",
     "text": [
      "/Users/mihildrozdov/PycharmProjects/mathStatistics/venv/lib/python3.8/site-packages/scipy/stats/_morestats.py:1816: UserWarning: p-value may not be accurate for N > 5000.\n",
      "  warnings.warn(\"p-value may not be accurate for N > 5000.\")\n"
     ]
    }
   ],
   "source": [
    "testValue = round(sps.shapiro(table[\"song_popularity\"])[0], ndigits = 3)\n",
    "pValue = round(sps.shapiro(table[\"song_popularity\"])[1], ndigits = 3)\n",
    "\n",
    "print(\"Значение тестовой статистики и p-value теста Шапиро-Уилка имеют значения\", testValue, pValue)"
   ],
   "metadata": {
    "collapsed": false
   }
  },
  {
   "cell_type": "code",
   "execution_count": 9,
   "outputs": [
    {
     "name": "stderr",
     "output_type": "stream",
     "text": [
      "/Users/mihildrozdov/PycharmProjects/mathStatistics/venv/lib/python3.8/site-packages/scipy/stats/_morestats.py:1816: UserWarning: p-value may not be accurate for N > 5000.\n",
      "  warnings.warn(\"p-value may not be accurate for N > 5000.\")\n"
     ]
    },
    {
     "data": {
      "text/plain": "ShapiroResult(statistic=0.9732723832130432, pvalue=0.0)"
     },
     "execution_count": 9,
     "metadata": {},
     "output_type": "execute_result"
    }
   ],
   "source": [
    "sps.shapiro(table[\"song_popularity\"])"
   ],
   "metadata": {
    "collapsed": false
   }
  },
  {
   "cell_type": "markdown",
   "source": [
    "Значение p-value для критерия Шапиро-Уилка составляет около 0, что меньше 0,05. Следовательно, с максимальной вероятностью ошибки первого рода в 0,05 мы можем отвергнуть нулевую гипотезу о нормальном распределении популярности песни.\n",
    "\n",
    "Таким образом, мы отвергаем гипотезу о нормальности популярности песни в обоих случаях на уровне значимости 0,05. Следовательно, нельзя аппроксимировать популярность песни нормальным распределением."
   ],
   "metadata": {
    "collapsed": false
   }
  },
  {
   "cell_type": "markdown",
   "source": [
    "Задача 2"
   ],
   "metadata": {
    "collapsed": false
   }
  },
  {
   "cell_type": "code",
   "execution_count": 10,
   "outputs": [
    {
     "name": "stdout",
     "output_type": "stream",
     "text": [
      "221512\n"
     ]
    }
   ],
   "source": [
    "borderDuration = round(np.quantile(table[\"song_duration_ms\"], 0.6))\n",
    "print(borderDuration)"
   ],
   "metadata": {
    "collapsed": false
   }
  },
  {
   "cell_type": "markdown",
   "source": [
    "Для проверки значимости различий в рейтинге популярности \"длинных\" и \"коротких\" песен используется тестирование гипотезы о равенстве выборок из одной генеральной совокупности, то есть гипотеза однородности. Пусть $X$ - случайная величина, соответствующая популярности коротких песен, $Y$ - случайная величина, соответствующая популярности длинных песен. Разбиение на длинные и короткие песни производится по выборочному квантилю уровня 0.6 по имеющейся выборке продолжительности песен. Гипотезы формулируются следующим образом:<br>\n",
    "<br>\n",
    "$H_0: F(x) = G(x)$ для всех $x \\in \\mathbb R$\n",
    "\n",
    "$H_1: F(x) \\neq G(x)$ для всех $x \\in \\mathbb R$,<br>\n",
    "<br>\n",
    "где $F(x)$ и $G(x)$ - функции распределения случайных величин $X$ и $Y$ соответственно, причем эти функции распределения непрерывны. <br>\n",
    "<br>\n",
    "Для тестирования используется критерий однородности Колмогорова. Статистика критерия имеет вид $D_{m,n} = \\overset{}{\\underset{x \\in \\mathbb R}{sup}} | G^*_m(x, Y_{[m]}) - F^*_n(x, X_{[n]})|$, где $F^*_n$ и $G^*_m$ - эмпирические функции распределения, построенные по выборкам $X_{[n]}$ и $Y_{[m]}$ соответственно. Если гипотеза $H_0$ верна, то статистика критерия имеет асимптотическое распределение Колмогорова. Критическая область определяется квантилем Колмогорова $d_{1 - \\alpha}$.<br>\n",
    "<br>\n",
    "Рассчитывается p-value теста. Если оно меньше или равно 0.05, то гипотеза $H_0$ отвергается на уровне значимости 0.05."
   ],
   "metadata": {
    "collapsed": false
   }
  },
  {
   "cell_type": "code",
   "execution_count": 11,
   "outputs": [
    {
     "name": "stdout",
     "output_type": "stream",
     "text": [
      "True\n"
     ]
    }
   ],
   "source": [
    "popularityLong = table[table[\"song_duration_ms\"] > borderDuration][\"song_popularity\"]\n",
    "popularityShort = table[table[\"song_duration_ms\"] <= borderDuration][\"song_popularity\"]\n",
    "\n",
    "print(len(popularityShort) + len(popularityLong) == len(table[\"song_popularity\"]))"
   ],
   "metadata": {
    "collapsed": false
   }
  },
  {
   "cell_type": "code",
   "execution_count": 14,
   "outputs": [
    {
     "name": "stdout",
     "output_type": "stream",
     "text": [
      "0    73\n",
      "2    76\n",
      "4    56\n",
      "5    80\n",
      "8    80\n",
      "Name: song_popularity, dtype: int64\n",
      "1    66\n",
      "3    74\n",
      "6    81\n",
      "7    76\n",
      "9    81\n",
      "Name: song_popularity, dtype: int64\n"
     ]
    }
   ],
   "source": [
    "print(popularityLong[:5])\n",
    "print(popularityShort[:5])"
   ],
   "metadata": {
    "collapsed": false
   }
  },
  {
   "cell_type": "code",
   "execution_count": 15,
   "outputs": [
    {
     "name": "stdout",
     "output_type": "stream",
     "text": [
      "0.03172285638439076\n"
     ]
    }
   ],
   "source": [
    "print(sps.ks_2samp(data1 = popularityShort, data2 = popularityLong)[0])"
   ],
   "metadata": {
    "collapsed": false
   }
  },
  {
   "cell_type": "code",
   "execution_count": 16,
   "outputs": [
    {
     "name": "stdout",
     "output_type": "stream",
     "text": [
      "Значение тестовой статистики и p-value критерия однородности Колмогорова имеют значения 0.032 0.0\n"
     ]
    }
   ],
   "source": [
    "testValue = round(sps.ks_2samp(data1 = popularityShort, data2 = popularityLong)[0], ndigits = 3)\n",
    "pValue = round(sps.ks_2samp(data1 = popularityShort, data2 = popularityLong)[1], ndigits = 3)\n",
    "\n",
    "print(\"Значение тестовой статистики и p-value критерия однородности Колмогорова имеют значения\", testValue, pValue)"
   ],
   "metadata": {
    "collapsed": false
   }
  },
  {
   "cell_type": "markdown",
   "source": [
    "Таким образом, полученное p-value меньше 0.05, что говорит о том, что нулевая гипотеза отвергается на уровне значимости 0.05. Следовательно, можно с уверенностью утверждать, что распределение популярности песен зависит от их продолжительности.\n",
    "\n",
    "Второй способ тестирования - критерий однородности Андерсона-Дарлинга.<br>\n",
    "<br>\n",
    "Статистика критерия имеет вид (для непрерывных функций распределения $F(x)$ и $G(x)$ в нулевой гипотезе выше):<br>\n",
    "<br>\n",
    "$A_2 = \\dfrac{1}{mn}\\sum_{i=1}^{n+m-1} \\dfrac{(M_i (m+n) - mi)^2}{i(m+n-i)}$,<br>\n",
    "<br>\n",
    "где $M_i$ - число элементов первой выборки, меньших или равных i-му элементу вариационного ряда объединенной выборки.<br>\n",
    "<br>\n",
    "Нулевая гипотеза отвергается на уровне значимости 0.05 при превышении статистикой критерия соответствующего критического значения.<br>\n",
    "<br>\n",
    "Как и в предыдущем случае, рассчитаем p-value теста."
   ],
   "metadata": {
    "collapsed": false
   }
  },
  {
   "cell_type": "code",
   "execution_count": 18,
   "outputs": [
    {
     "name": "stdout",
     "output_type": "stream",
     "text": [
      "Anderson_ksampResult(statistic=7.588853157969736, critical_values=array([0.325, 1.226, 1.961, 2.718, 3.752, 4.592, 6.546]), pvalue=0.001)\n",
      "Значение тестовой статистики критерия однородности Андерсона-Дарлинга и p-value критерия имеют значения 7.589 0.001\n"
     ]
    },
    {
     "name": "stderr",
     "output_type": "stream",
     "text": [
      "/var/folders/9f/w41bspxs7clddh3nwh3bpfcc0000gn/T/ipykernel_3011/3490888465.py:1: UserWarning: p-value floored: true value smaller than 0.001\n",
      "  print(sps.anderson_ksamp(samples = [popularity_short, popularity_long]))\n",
      "/var/folders/9f/w41bspxs7clddh3nwh3bpfcc0000gn/T/ipykernel_3011/3490888465.py:3: UserWarning: p-value floored: true value smaller than 0.001\n",
      "  first = round(sps.anderson_ksamp(samples = [popularity_short, popularity_long])[0], ndigits = 3)\n",
      "/var/folders/9f/w41bspxs7clddh3nwh3bpfcc0000gn/T/ipykernel_3011/3490888465.py:4: UserWarning: p-value floored: true value smaller than 0.001\n",
      "  second = round(sps.anderson_ksamp(samples = [popularity_short, popularity_long])[2], ndigits = 3)\n"
     ]
    }
   ],
   "source": [
    "print(sps.anderson_ksamp(samples = [popularityShort, popularityLong]))\n",
    "\n",
    "first = round(sps.anderson_ksamp(samples = [popularityShort, popularityLong])[0], ndigits = 3)\n",
    "second = round(sps.anderson_ksamp(samples = [popularityShort, popularityLong])[2], ndigits = 3)\n",
    "print(\"Значение тестовой статистики критерия однородности Андерсона-Дарлинга и p-value критерия имеют значения\", first, second)"
   ],
   "metadata": {
    "collapsed": false
   }
  },
  {
   "cell_type": "markdown",
   "source": [
    "Таким образом, значение статистики критерия составило 7.589, что превышает критическое значение для 5% уровня значимости, равное 1.961 (аналогично, p-value теста составило величину меньше 0.001 < 0.05). Из этого следует, что нулевая гипотеза отвергается на уровне значимости 0.05. Можно с уверенностью утверждать, что выборки популярности длинных и коротких песен получены из разных генеральных совокупностей и имеют разные распределения с максимальной вероятностью ошибки первого рода в 0.05."
   ],
   "metadata": {
    "collapsed": false
   }
  },
  {
   "cell_type": "code",
   "execution_count": 19,
   "outputs": [
    {
     "name": "stdout",
     "output_type": "stream",
     "text": [
      "11301 7534\n",
      "53.26245465003097 52.586010087602865\n",
      "483.6359224412007 473.85210584858413\n"
     ]
    }
   ],
   "source": [
    "print(len(popularityShort), len(popularityLong))\n",
    "print(np.mean(popularityShort), np.mean(popularityLong))\n",
    "print(np.var(popularityShort), np.var(popularityLong))"
   ],
   "metadata": {
    "collapsed": false
   }
  },
  {
   "cell_type": "markdown",
   "source": [
    "В данном случае заключения двух критериев совпадают, и на уровне значимости 5% можем утверждать, что есть принципиальные отличия в популярности длинных и коротких песен."
   ],
   "metadata": {
    "collapsed": false
   }
  },
  {
   "cell_type": "markdown",
   "source": [
    "Задача 3"
   ],
   "metadata": {
    "collapsed": false
   }
  },
  {
   "cell_type": "markdown",
   "source": [
    "Рассмотрим две случайные величины: $Z$ - популярность песни, и $D$ - ее продолжительность. Зависимость популярности песни от продолжительности означает, что при изменении значения $D$ меняется распределение $Z$, то есть условная функция распределения $F(Z | D)$ зависит от значений $D$. Введем теперь случайную величину $D_{\\text{binar}} = 1, \\ \\text{если} \\ D > 221512, \\ \\text{и} \\ D_{\\text{binar}} = 0 \\ \\text{иначе}$. Очевидно, это измеримая функция от случайной величины $D$. Заметим теперь, что в задаче 2 мы протестировали фактически зависимость случайных величин $Z$ и $D_{\\text{binar}}$, так как проверка отличия распределения $Z$ в зависимости от того, длинная песня ($D_{\\text{binar}} = 1$) или короткая ($D_{\\text{binar}} = 0$), эквивалентна фактически проверке утверждения, что распределение $Z$ зависит от значений $D_{\\text{binar}}$. Мы получили отвержение нулевой гипотезы в задаче 2, и заключили, что распределение $Z$ принципиально отличается в случаях $D_{\\text{binar}} = 1$ и $D_{\\text{binar}} = 0$. Другими словами, случайные величины $Z$ и $D_{\\text{binar}}$ зависимы по определению. Так как $D_{\\text{binar}}$ - это функция от величины $D$, то при изменении значений $D$ меняются значения и $D_{\\text{binar}}$, а значит меняется и распределение $Z$, то есть величины $Z$ и $D$ тоже зависимы (по вероятностному определению) - если песня \"короткая\", то популярность будет иметь другое распределение, чем если бы песня была \"длинной\". Формально, тестирование зависимости здесь эквивалентно тестированию утверждений в задаче 2, то есть гипотеза о независимости эквивалентна конкретной гипотезе об однородности (хотя стоит отметить, что если бы мы не отвергли гипотезу об однородности в задаче 2, это еще не означало бы независимость. Но если мы хотя бы для одного порога отвергаем гипотезу об однородности, то это уже означает наличие зависимости величин $Z$ и $D$ по определению)."
   ],
   "metadata": {
    "collapsed": false
   }
  },
  {
   "cell_type": "code",
   "execution_count": null,
   "outputs": [],
   "source": [],
   "metadata": {
    "collapsed": false
   }
  }
 ],
 "metadata": {
  "kernelspec": {
   "display_name": "Python 3",
   "language": "python",
   "name": "python3"
  },
  "language_info": {
   "codemirror_mode": {
    "name": "ipython",
    "version": 2
   },
   "file_extension": ".py",
   "mimetype": "text/x-python",
   "name": "python",
   "nbconvert_exporter": "python",
   "pygments_lexer": "ipython2",
   "version": "2.7.6"
  }
 },
 "nbformat": 4,
 "nbformat_minor": 0
}
